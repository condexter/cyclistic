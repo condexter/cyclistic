{
 "cells": [
  {
   "cell_type": "code",
   "execution_count": 1,
   "id": "31ce4444",
   "metadata": {},
   "outputs": [],
   "source": [
    "import pandas as pd\n",
    "import numpy as np"
   ]
  },
  {
   "cell_type": "code",
   "execution_count": null,
   "id": "4791fa93",
   "metadata": {},
   "outputs": [],
   "source": [
    "cyclistic = pd.read_csv('./data/2021-divvy-tripdata.csv')"
   ]
  },
  {
   "cell_type": "code",
   "execution_count": null,
   "id": "a5a75729",
   "metadata": {
    "scrolled": false
   },
   "outputs": [],
   "source": [
    "cyclistic.head()"
   ]
  },
  {
   "cell_type": "code",
   "execution_count": null,
   "id": "cade845c",
   "metadata": {},
   "outputs": [],
   "source": [
    "cyclistic.info()"
   ]
  },
  {
   "cell_type": "code",
   "execution_count": null,
   "id": "806acf48",
   "metadata": {},
   "outputs": [],
   "source": [
    "cyclistic.describe()"
   ]
  },
  {
   "cell_type": "code",
   "execution_count": null,
   "id": "c52533c5",
   "metadata": {},
   "outputs": [],
   "source": [
    "cyclistic[['started_at', 'ended_at']] = cyclistic[['started_at', 'ended_at']].apply(pd.to_datetime)"
   ]
  },
  {
   "cell_type": "code",
   "execution_count": null,
   "id": "62d083e9",
   "metadata": {},
   "outputs": [],
   "source": [
    "cyclistic.info()"
   ]
  },
  {
   "cell_type": "code",
   "execution_count": null,
   "id": "aa43002c",
   "metadata": {},
   "outputs": [],
   "source": [
    "cyclistic.describe()"
   ]
  },
  {
   "cell_type": "code",
   "execution_count": null,
   "id": "1fd2eaf1",
   "metadata": {},
   "outputs": [],
   "source": [
    "cyclistic.head()"
   ]
  },
  {
   "cell_type": "code",
   "execution_count": null,
   "id": "fac7cd94",
   "metadata": {},
   "outputs": [],
   "source": [
    "def check_if_negative(pd_time):\n",
    "    if pd_time >= pd.Timedelta(0):\n",
    "        return pd_time\n",
    "    elif pd_time < pd.Timedelta(0):\n",
    "        return np.NaN\n",
    "    else:\n",
    "        print(f'problem! {pd_time} has an issue')"
   ]
  },
  {
   "cell_type": "code",
   "execution_count": null,
   "id": "b04a2443",
   "metadata": {},
   "outputs": [],
   "source": [
    "cyclistic['ride_length'] = cyclistic['ended_at'] - cyclistic['started_at']"
   ]
  },
  {
   "cell_type": "code",
   "execution_count": null,
   "id": "0fbac61e",
   "metadata": {
    "scrolled": true
   },
   "outputs": [],
   "source": [
    "cyclistic.sort_values(by=['ride_length'])"
   ]
  },
  {
   "cell_type": "code",
   "execution_count": null,
   "id": "9c865f0e",
   "metadata": {},
   "outputs": [],
   "source": [
    "cyclistic.describe()"
   ]
  },
  {
   "cell_type": "code",
   "execution_count": null,
   "id": "ca6ff4c3",
   "metadata": {},
   "outputs": [],
   "source": [
    "cyclistic['ride_length'] = cyclistic.ride_length.apply(check_if_negative)"
   ]
  },
  {
   "cell_type": "code",
   "execution_count": null,
   "id": "9fb0c726",
   "metadata": {},
   "outputs": [],
   "source": [
    "cyclistic.describe()"
   ]
  },
  {
   "cell_type": "code",
   "execution_count": null,
   "id": "e16acfbd",
   "metadata": {},
   "outputs": [],
   "source": [
    "cyclistic.sort_values(by=['ride_length'])"
   ]
  },
  {
   "cell_type": "code",
   "execution_count": null,
   "id": "be0ce505",
   "metadata": {},
   "outputs": [],
   "source": [
    "cyclistic = cyclistic.dropna(subset=['ride_length'])"
   ]
  },
  {
   "cell_type": "code",
   "execution_count": null,
   "id": "932394d4",
   "metadata": {},
   "outputs": [],
   "source": [
    "cyclistic.describe()"
   ]
  },
  {
   "cell_type": "code",
   "execution_count": null,
   "id": "c5d41bea",
   "metadata": {},
   "outputs": [],
   "source": [
    "cyclistic.sort_values(by=['ride_length'])"
   ]
  },
  {
   "cell_type": "code",
   "execution_count": null,
   "id": "9c3f3deb",
   "metadata": {},
   "outputs": [],
   "source": [
    "cyclistic['day_of_week'] = cyclistic['started_at'].dt.weekday"
   ]
  },
  {
   "cell_type": "code",
   "execution_count": null,
   "id": "aaf9bf83",
   "metadata": {},
   "outputs": [],
   "source": [
    "cyclistic.head()"
   ]
  },
  {
   "cell_type": "code",
   "execution_count": null,
   "id": "e351d9ca",
   "metadata": {},
   "outputs": [],
   "source": [
    "most_day = cyclistic['day_of_week'].mode()\n",
    "most_day"
   ]
  },
  {
   "cell_type": "code",
   "execution_count": null,
   "id": "7dcf32ae",
   "metadata": {},
   "outputs": [],
   "source": [
    "import matplotlib.pyplot as plt"
   ]
  },
  {
   "cell_type": "code",
   "execution_count": null,
   "id": "7f546721",
   "metadata": {},
   "outputs": [],
   "source": [
    "plt.scatter(x=cyclistic['start_lng'], y=cyclistic['start_lat'])\n",
    "plt.show()"
   ]
  },
  {
   "cell_type": "code",
   "execution_count": null,
   "id": "e881de6c",
   "metadata": {},
   "outputs": [],
   "source": [
    "plt.scatter(x=cyclistic['end_lng'], y=cyclistic['end_lat'])\n",
    "plt.show()"
   ]
  },
  {
   "cell_type": "code",
   "execution_count": null,
   "id": "7cc2e78c",
   "metadata": {},
   "outputs": [],
   "source": []
  }
 ],
 "metadata": {
  "kernelspec": {
   "display_name": "Python 3",
   "language": "python",
   "name": "python3"
  },
  "language_info": {
   "codemirror_mode": {
    "name": "ipython",
    "version": 3
   },
   "file_extension": ".py",
   "mimetype": "text/x-python",
   "name": "python",
   "nbconvert_exporter": "python",
   "pygments_lexer": "ipython3",
   "version": "3.8.8"
  }
 },
 "nbformat": 4,
 "nbformat_minor": 5
}
